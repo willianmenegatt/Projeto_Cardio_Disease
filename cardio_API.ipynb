{
 "cells": [
  {
   "cell_type": "markdown",
   "id": "3c0c4426",
   "metadata": {},
   "source": [
    "#  Cardio Project Deploy"
   ]
  },
  {
   "cell_type": "markdown",
   "id": "6b582fba",
   "metadata": {},
   "source": [
    "### Steps:\n",
    "\n",
    "- Create a python file to the Cardio Class.\n",
    "- Create a python file to the API handler.\n",
    "- Replace the paths for your computer.\n",
    "- Save the model.\n",
    "- Use the section API Tester to input the raw data and make the prediction."
   ]
  },
  {
   "cell_type": "code",
   "execution_count": 141,
   "id": "fc1829be",
   "metadata": {
    "ExecuteTime": {
     "end_time": "2022-05-03T16:31:12.877346Z",
     "start_time": "2022-05-03T16:31:11.447217Z"
    }
   },
   "outputs": [],
   "source": [
    "# The model was fitted only inside functions, so it's necessary to fit it again to save it.\n",
    "LG = LGBMClassifier()\n",
    "LG.fit(X, y)\n",
    "\n",
    "# Save the model LGBM\n",
    "import pickle\n",
    "pickle.dump(LG, open('C:/Users/Usuario/Desktop/Data_Science/PROJETOS_DATA_SCIENCE/Projeto_Cardio_Disease/deploy/model_LGBM.pkl', 'wb'))"
   ]
  },
  {
   "cell_type": "markdown",
   "id": "0b849893",
   "metadata": {},
   "source": [
    "## Cardio Class"
   ]
  },
  {
   "cell_type": "code",
   "execution_count": 142,
   "id": "01f188e0",
   "metadata": {
    "ExecuteTime": {
     "end_time": "2022-05-03T16:31:12.925351Z",
     "start_time": "2022-05-03T16:31:12.880346Z"
    }
   },
   "outputs": [],
   "source": [
    "import pandas as pd\n",
    "\n",
    "class Cardio():\n",
    "  \n",
    "    def data_preparation(self, df):                    # cleaning, preparation, feature engineering and enconding\n",
    "        \n",
    "        # Age in years\n",
    "        df['age_years'] = df['age'] / 360\n",
    "\n",
    "        # Drop the columns 'id' and 'age' and target 'cardio'\n",
    "        df.drop(['id','age', 'cardio'], axis='columns', inplace=True)\n",
    "\n",
    "        # Creating feature 'IMC'\n",
    "        df1 = df.copy()\n",
    "        df1['IMC'] = df1['weight']/((df1['height']/100) * (df1['height']/100))\n",
    "\n",
    "        # Creating feature 'dwarfism'\n",
    "        df1['dwarfism'] = [1 if value < 145 else 0 for value in df1['height']]\n",
    "\n",
    "        # Creating feature 'blood_pressure' manually as a dummie\n",
    "        df1['blood_pressure_1'] = df1[['ap_hi', 'ap_lo']].apply(lambda x: 1 if (x['ap_hi'] < 90) & (x['ap_lo'] < 60) else 0, axis=1)\n",
    "        df1['blood_pressure_2'] = df1[['ap_hi', 'ap_lo']].apply(lambda x: 1 if (90 <= x['ap_hi'] < 140) & (60 <= x['ap_lo'] < 90) else 0, axis=1)\n",
    "        df1['blood_pressure_3'] = df1[['ap_hi', 'ap_lo']].apply(lambda x: 1 if (140 <= x['ap_hi'] < 160) & (90 <= x['ap_lo'] < 100) else 0, axis=1)\n",
    "        df1['blood_pressure_4'] = df1[['ap_hi', 'ap_lo']].apply(lambda x: 1 if (x['ap_hi'] >= 160) & (x['ap_lo'] >= 100) else 0, axis=1)\n",
    "        df1['blood_pressure_5'] = df1[['ap_hi', 'ap_lo']].apply(lambda x: 0 if (x['ap_hi'] < 90) & (x['ap_lo'] < 60) else\n",
    "                                                                0 if (90 <= x['ap_hi'] < 140) & (60 <= x['ap_lo'] < 90) else\n",
    "                                                                0 if (140 <= x['ap_hi'] < 160) & (90 <= x['ap_lo'] < 100) else\n",
    "                                                                0 if (x['ap_hi'] >= 160) & (x['ap_lo'] >= 100) else\n",
    "                                                                1, axis=1)\n",
    "\n",
    "        # Create cholesterol dummie variable manually\n",
    "        df1['cholesterol_1'] = df1[['cholesterol']].apply(lambda x: 1 if x['cholesterol'] == 1 else 0, axis=1)\n",
    "        df1['cholesterol_2'] = df1[['cholesterol']].apply(lambda x: 1 if x['cholesterol'] == 2 else 0, axis=1)\n",
    "        df1['cholesterol_3'] = df1[['cholesterol']].apply(lambda x: 1 if x['cholesterol'] == 3 else 0, axis=1)\n",
    "\n",
    "        # Create gluc dummie variable manually\n",
    "        df1['gluc_1'] = df1[['gluc']].apply(lambda x: 1 if x['gluc'] == 1 else 0, axis=1)\n",
    "        df1['gluc_2'] = df1[['gluc']].apply(lambda x: 1 if x['gluc'] == 2 else 0, axis=1)\n",
    "        df1['gluc_3'] = df1[['gluc']].apply(lambda x: 1 if x['gluc'] == 3 else 0, axis=1)\n",
    "\n",
    "        # Drop the columns\n",
    "        df1.drop(['cholesterol', 'gluc'], axis='columns', inplace=True)\n",
    "\n",
    "        return df1\n",
    "    \n",
    "    def get_prediction(self, model, original_data, test_data):\n",
    "        \n",
    "        # Prediction\n",
    "        pred = model.predict(test_data)\n",
    "        \n",
    "        # Join prediction into the original data\n",
    "        original_data['prediction'] = pred\n",
    "        \n",
    "        return original_data.to_json(orient='records')"
   ]
  },
  {
   "cell_type": "markdown",
   "id": "113ab558",
   "metadata": {},
   "source": [
    "## 8.2 API Handler"
   ]
  },
  {
   "cell_type": "code",
   "execution_count": null,
   "id": "00165a91",
   "metadata": {
    "ExecuteTime": {
     "end_time": "2022-05-03T16:31:12.988349Z",
     "start_time": "2022-05-03T16:31:12.929349Z"
    }
   },
   "outputs": [],
   "source": [
    "import pickle, joblib\n",
    "import pandas as pd\n",
    "from flask import Flask, request, Response\n",
    "from cardio import Cardio\n",
    "\n",
    "# Load model\n",
    "model = pickle.load(open('C:/Users/Usuario/Desktop/Data_Science/PROJETOS_DATA_SCIENCE/Projeto_Cardio_Disease/deploy/model_LGBM.pkl', 'rb'))\n",
    "\n",
    "# Inicialize API\n",
    "app = Flask(__name__)\n",
    "@app.route('/cardio/predict', methods=['POST'])\n",
    "def cardio_predict():\n",
    "    test_json = request.get_json()\n",
    "    \n",
    "    if test_json:   #There is data\n",
    "        if isinstance(test_json, dict):                        # unique example\n",
    "            test_raw = pd.DataFrame(test_json, index=[0])  \n",
    "        else:                                                  # multiple examples  \n",
    "            test_raw = pd.DataFrame(test_json, columns=test_json[0].keys())\n",
    "            \n",
    "        # Instantiate Cardio Class\n",
    "        pipeline = Cardio()\n",
    "        \n",
    "        # Data preparation\n",
    "        df2 = pipeline.data_preparation(test_raw)\n",
    "        \n",
    "        # Prediction\n",
    "        df_response = pipeline.get_prediction(model, test_raw, df2)\n",
    "        \n",
    "        return df_response\n",
    "        \n",
    "        \n",
    "    else: \n",
    "        return Response('{}', status=200, mimetype='application/json')\n",
    "        \n",
    "\n",
    "if __name__ == '__main__':\n",
    "    app.run('0.0.0.0')"
   ]
  },
  {
   "cell_type": "markdown",
   "id": "c8614954",
   "metadata": {},
   "source": [
    "## 8.3 API Tester"
   ]
  },
  {
   "cell_type": "code",
   "execution_count": 166,
   "id": "df08ded3",
   "metadata": {
    "ExecuteTime": {
     "end_time": "2022-05-03T17:46:08.160146Z",
     "start_time": "2022-05-03T17:46:07.982250Z"
    },
    "scrolled": true
   },
   "outputs": [
    {
     "name": "stdout",
     "output_type": "stream",
     "text": [
      "Status Code 200.\n"
     ]
    }
   ],
   "source": [
    "import pandas as pd\n",
    "import requests\n",
    "\n",
    "df_test = pd.read_csv('dataset/cardio_train.csv', sep=';')\n",
    "df_test = df_test.sample(5)\n",
    "\n",
    "# Convert dataframe to json\n",
    "data = json.dumps(df_test.to_dict(orient='records'))\n",
    "\n",
    "# API call\n",
    "url = 'http://192.168.0.106:5000/cardio/predict'\n",
    "header = {'Content-type': 'application/json'}\n",
    "data = data\n",
    "\n",
    "r = requests.post(url=url, data=data, headers=header)\n",
    "print('Status Code {}.'.format(r.status_code))"
   ]
  },
  {
   "cell_type": "code",
   "execution_count": 167,
   "id": "3cb5a003",
   "metadata": {
    "ExecuteTime": {
     "end_time": "2022-05-03T17:46:10.173572Z",
     "start_time": "2022-05-03T17:46:10.142593Z"
    }
   },
   "outputs": [
    {
     "data": {
      "text/html": [
       "<div>\n",
       "<style scoped>\n",
       "    .dataframe tbody tr th:only-of-type {\n",
       "        vertical-align: middle;\n",
       "    }\n",
       "\n",
       "    .dataframe tbody tr th {\n",
       "        vertical-align: top;\n",
       "    }\n",
       "\n",
       "    .dataframe thead th {\n",
       "        text-align: right;\n",
       "    }\n",
       "</style>\n",
       "<table border=\"1\" class=\"dataframe\">\n",
       "  <thead>\n",
       "    <tr style=\"text-align: right;\">\n",
       "      <th></th>\n",
       "      <th>gender</th>\n",
       "      <th>height</th>\n",
       "      <th>weight</th>\n",
       "      <th>ap_hi</th>\n",
       "      <th>ap_lo</th>\n",
       "      <th>cholesterol</th>\n",
       "      <th>gluc</th>\n",
       "      <th>smoke</th>\n",
       "      <th>alco</th>\n",
       "      <th>active</th>\n",
       "      <th>age_years</th>\n",
       "      <th>prediction</th>\n",
       "    </tr>\n",
       "  </thead>\n",
       "  <tbody>\n",
       "    <tr>\n",
       "      <th>0</th>\n",
       "      <td>1</td>\n",
       "      <td>155</td>\n",
       "      <td>75.0</td>\n",
       "      <td>135</td>\n",
       "      <td>90</td>\n",
       "      <td>1</td>\n",
       "      <td>1</td>\n",
       "      <td>0</td>\n",
       "      <td>0</td>\n",
       "      <td>0</td>\n",
       "      <td>64.980556</td>\n",
       "      <td>1</td>\n",
       "    </tr>\n",
       "    <tr>\n",
       "      <th>1</th>\n",
       "      <td>2</td>\n",
       "      <td>170</td>\n",
       "      <td>70.0</td>\n",
       "      <td>120</td>\n",
       "      <td>80</td>\n",
       "      <td>1</td>\n",
       "      <td>1</td>\n",
       "      <td>0</td>\n",
       "      <td>0</td>\n",
       "      <td>1</td>\n",
       "      <td>44.200000</td>\n",
       "      <td>0</td>\n",
       "    </tr>\n",
       "    <tr>\n",
       "      <th>2</th>\n",
       "      <td>2</td>\n",
       "      <td>175</td>\n",
       "      <td>75.0</td>\n",
       "      <td>140</td>\n",
       "      <td>90</td>\n",
       "      <td>1</td>\n",
       "      <td>1</td>\n",
       "      <td>0</td>\n",
       "      <td>0</td>\n",
       "      <td>1</td>\n",
       "      <td>53.080556</td>\n",
       "      <td>1</td>\n",
       "    </tr>\n",
       "    <tr>\n",
       "      <th>3</th>\n",
       "      <td>1</td>\n",
       "      <td>158</td>\n",
       "      <td>88.0</td>\n",
       "      <td>150</td>\n",
       "      <td>100</td>\n",
       "      <td>1</td>\n",
       "      <td>1</td>\n",
       "      <td>0</td>\n",
       "      <td>0</td>\n",
       "      <td>1</td>\n",
       "      <td>62.438889</td>\n",
       "      <td>1</td>\n",
       "    </tr>\n",
       "    <tr>\n",
       "      <th>4</th>\n",
       "      <td>1</td>\n",
       "      <td>155</td>\n",
       "      <td>86.0</td>\n",
       "      <td>130</td>\n",
       "      <td>80</td>\n",
       "      <td>2</td>\n",
       "      <td>1</td>\n",
       "      <td>0</td>\n",
       "      <td>0</td>\n",
       "      <td>1</td>\n",
       "      <td>54.822222</td>\n",
       "      <td>1</td>\n",
       "    </tr>\n",
       "  </tbody>\n",
       "</table>\n",
       "</div>"
      ],
      "text/plain": [
       "   gender  height  weight  ap_hi  ap_lo  cholesterol  gluc  smoke  alco  \\\n",
       "0       1     155    75.0    135     90            1     1      0     0   \n",
       "1       2     170    70.0    120     80            1     1      0     0   \n",
       "2       2     175    75.0    140     90            1     1      0     0   \n",
       "3       1     158    88.0    150    100            1     1      0     0   \n",
       "4       1     155    86.0    130     80            2     1      0     0   \n",
       "\n",
       "   active  age_years  prediction  \n",
       "0       0  64.980556           1  \n",
       "1       1  44.200000           0  \n",
       "2       1  53.080556           1  \n",
       "3       1  62.438889           1  \n",
       "4       1  54.822222           1  "
      ]
     },
     "execution_count": 167,
     "metadata": {},
     "output_type": "execute_result"
    }
   ],
   "source": [
    "df = pd.DataFrame(r.json(), columns=r.json()[0].keys())\n",
    "df"
   ]
  }
 ],
 "metadata": {
  "kernelspec": {
   "display_name": "Python 3 (ipykernel)",
   "language": "python",
   "name": "python3"
  },
  "language_info": {
   "codemirror_mode": {
    "name": "ipython",
    "version": 3
   },
   "file_extension": ".py",
   "mimetype": "text/x-python",
   "name": "python",
   "nbconvert_exporter": "python",
   "pygments_lexer": "ipython3",
   "version": "3.9.7"
  }
 },
 "nbformat": 4,
 "nbformat_minor": 5
}
